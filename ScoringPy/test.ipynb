{
 "cells": [
  {
   "cell_type": "code",
   "outputs": [],
   "source": [
    "#save_excel ფუნქცია რომელიც თითოეულ ცვლადზე შემიძლია ვამოქმედო \n",
    "\n",
    "\n",
    "\n",
    "# მაგ woe_analysis.discrete(column=\"RiskGrade\", df=X_train, target=y_train).plot().save_excel(path=grouping_path,save=False) სადაც save_excel მეთოდი შეინახავს ამ კონკრეტული ცვლადის woe_analysis მიერ დაბრუნებული ცხრილის შედეგს ექსელის ფაილად ? (ისე სვა ფორმატშიც ხოარ შევანახინოთ და უბრალოდ save ქონდეს და დასუპორტებული ფორმატები რაშიც შეინახება და მაგ ფორმატს იუზერი გადაცემს მაგ format = '.txt', '.pkl', '.xlsx' და ა.შ ეს save სად მოედება მნიშვნელობა არ აქვს თუ ერორი არ იყო კოდში დდა სეივი ჩართულია უნდა შეინახოს საბოლოო შედეგი \n",
    "\n",
    "\n",
    "# 1) მონაცემთა ტრანსფორმაცია უნდა ინახებოდეს ობჯექთად და ახალ მოაცემებზე მარტივი უნდა იყოს გავრცელება\n",
    "# 2) ტრანფორმირებული მონაცემებზე დაყრდნობით უნდა შეგრვძლოს ჯამური სქორის გამოთვლა\n",
    "\n",
    "\n",
    "# პ.ს არ მახსოვს გასწორდა თუ არა მაგრამ წინაზე რო ვტესტავდი მეთპდების გადანაცვლებით შედეგები იცვლებოდა (პრინტები) და ახლა როგორაა?\n",
    "\n",
    "# iv _ ის ექსელის ფაილი Pvalue AUROC _ ი რო ჩავამატოთ \n",
    "\n",
    "\n",
    "\n"
   ],
   "metadata": {
    "collapsed": false
   },
   "id": "45f8ddbc9f88c4f6",
   "execution_count": null
  },
  {
   "cell_type": "code",
   "outputs": [],
   "source": [
    "# python setup.py sdist bdist_wheel\n",
    "# pip install dist/ScoringPy-0.0.2.tar.gz\n",
    "# pip install dist/ScoringPy-0.0.2-py3-none-any.whl\n"
   ],
   "metadata": {
    "collapsed": false
   },
   "id": "b923a70c51a52b0e",
   "execution_count": null
  },
  {
   "cell_type": "code",
   "source": [
    "#import pandas as pd\n",
    "from module import WoeAnalysis\n",
    "import numpy as np\n",
    "import pandas as pd\n",
    "\n"
   ],
   "metadata": {
    "collapsed": false
   },
   "id": "235d61cb9e8756ca",
   "outputs": [],
   "execution_count": null
  },
  {
   "cell_type": "code",
   "source": [
    "df = pd.read_pickle(\"Data/Raw Data/ScoringLoans.pkl\")"
   ],
   "metadata": {
    "collapsed": false
   },
   "id": "d2d5aed01cd1e7be",
   "outputs": [],
   "execution_count": null
  },
  {
   "cell_type": "code",
   "outputs": [],
   "source": [
    "df"
   ],
   "metadata": {
    "collapsed": false
   },
   "id": "3f13f19d741f0b3c",
   "execution_count": null
  },
  {
   "metadata": {},
   "cell_type": "code",
   "source": [
    "# creating a new DataFrame X \n",
    "X_train = df.drop(columns=['Actual'])\n",
    "\n",
    "# create y containing only the 'Actual' column\n",
    "y_train = df['Actual']"
   ],
   "id": "5df56f2aa5c10e3f",
   "outputs": [],
   "execution_count": null
  },
  {
   "cell_type": "code",
   "source": [
    "# Example usage\n",
    "woe_analysis = WoeAnalysis()"
   ],
   "metadata": {
    "collapsed": false
   },
   "id": "45b0cc625f80a737",
   "outputs": [],
   "execution_count": null
  },
  {
   "metadata": {},
   "cell_type": "code",
   "source": [
    "woe_analysis.discrete(column=\"RiskGrade\", df=X_train, target=y_train).plot().save()\n",
    "\n"
   ],
   "id": "d7a5d786a8f9cce5",
   "outputs": [],
   "execution_count": null
  },
  {
   "metadata": {},
   "cell_type": "code",
   "source": [
    "bins = pd.IntervalIndex.from_tuples([(-60,-1.1), (-1.1,-0.001),(-0.001, 209),  (209, 234),(234, 259), (259, 272), (272, 277),(277, 284), (284, 288),(288, 293),(293, 298), (298, 303),(303, 308), (308, 313),(313, 320), (320, 333), (333, np.inf)])\n",
    "\n",
    "woe_analysis.continuous(column=\"Score\", bins= bins,df=X_train, target=y_train).plot(rotation=90)"
   ],
   "id": "8423e597ae0d8567",
   "outputs": [],
   "execution_count": null
  },
  {
   "cell_type": "markdown",
   "source": [
    "# მოანცემების გარდაქმნის ფაიფლაინი"
   ],
   "metadata": {
    "collapsed": false
   },
   "id": "279f0db883360a84"
  },
  {
   "cell_type": "code",
   "execution_count": null,
   "outputs": [],
   "source": [
    "WoE_dict = woe_analysis.WoE_dict\n",
    "IV_dict = woe_analysis.IV_dict\n",
    "IV_excel = woe_analysis.IV_excel\n",
    "\n",
    "names = list(pd.DataFrame({\"name\":[i.split(\":\")[0] for i in WoE_dict ]})[\"name\"].unique())\n",
    "names"
   ],
   "metadata": {
    "collapsed": false
   },
   "id": "9c263e1b350daeb1"
  },
  {
   "metadata": {},
   "cell_type": "code",
   "source": [
    "from Processing import Processing, WoE_Binning\n",
    "\n",
    "\n",
    "# Example usage\n",
    "def step1(df):\n",
    "    # Example transformation: Add a new column\n",
    "    df['new_Score'] = df['Score'] * 4\n",
    "    return df\n",
    "\n",
    "def step2(df):\n",
    "    # Example transformation: Filter data\n",
    "    return df[df['new_Score'] > 1200]\n",
    "\n",
    "\n",
    "\n",
    "# Create the pipeline\n",
    "pipeline = Processing()\n",
    "pipeline.add_step(step1)   # არგუმენტად ვერ გადავცემ იმ სახელის დათაფრეიმს რაცმინდა ?\n",
    "pipeline.add_step(step2)\n",
    "\n",
    "\n",
    "# Apply the pipeline\n",
    "transformed_data = pipeline.apply(X_train)\n",
    "transformed_data\n"
   ],
   "id": "b1fc0749dd8f7d07",
   "outputs": [],
   "execution_count": null
  },
  {
   "metadata": {},
   "cell_type": "code",
   "source": [
    "lss = pd.concat([X_train, pd.DataFrame({'RiskGrade': [\"C2\"],'Score': [-20]})], ignore_index=True)"
   ],
   "id": "fbbb411edeb6a38a",
   "outputs": [],
   "execution_count": null
  },
  {
   "metadata": {},
   "cell_type": "code",
   "source": [
    "woe_binner = WoE_Binning(WoE_dict)\n",
    "data_after = woe_binner.transform(lss)\n",
    "data_after"
   ],
   "id": "e2ee1999fc3f82b4",
   "outputs": [],
   "execution_count": null
  },
  {
   "cell_type": "code",
   "execution_count": null,
   "outputs": [],
   "source": [],
   "metadata": {
    "collapsed": false
   },
   "id": "eefd4e0999da64fd"
  }
 ],
 "metadata": {
  "kernelspec": {
   "display_name": "Python 3",
   "language": "python",
   "name": "python3"
  },
  "language_info": {
   "codemirror_mode": {
    "name": "ipython",
    "version": 2
   },
   "file_extension": ".py",
   "mimetype": "text/x-python",
   "name": "python",
   "nbconvert_exporter": "python",
   "pygments_lexer": "ipython2",
   "version": "2.7.6"
  }
 },
 "nbformat": 4,
 "nbformat_minor": 5
}
